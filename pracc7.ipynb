{
 "cells": [
  {
   "cell_type": "code",
   "execution_count": 2,
   "id": "f755d72c-9938-48ce-9c52-55f97a59503f",
   "metadata": {},
   "outputs": [],
   "source": [
    "import nltk\n",
    "from nltk import sent_tokenize, word_tokenize\n",
    "from nltk.corpus import stopwords"
   ]
  },
  {
   "cell_type": "code",
   "execution_count": 3,
   "id": "9215eb28-5fb8-4cdb-a31e-7c051bf26a40",
   "metadata": {},
   "outputs": [],
   "source": [
    "text = 'All the boys and girls from the classroom, are writing paper. And the timing is, one hour.'"
   ]
  },
  {
   "cell_type": "code",
   "execution_count": 4,
   "id": "7389d5c3-bb0e-488f-988a-89e1eca4ab72",
   "metadata": {},
   "outputs": [],
   "source": [
    "tk_sentense = nltk.sent_tokenize(text)"
   ]
  },
  {
   "cell_type": "code",
   "execution_count": 5,
   "id": "c156b4a1-412a-4011-8ada-262b14bbe507",
   "metadata": {},
   "outputs": [
    {
     "data": {
      "text/plain": [
       "['All the boys and girls from the classroom, are writing paper.',\n",
       " 'And the timing is, one hour.']"
      ]
     },
     "execution_count": 5,
     "metadata": {},
     "output_type": "execute_result"
    }
   ],
   "source": [
    "tk_sentense"
   ]
  },
  {
   "cell_type": "code",
   "execution_count": 6,
   "id": "6274423d-b58a-41d9-a384-f3f6f730bdc4",
   "metadata": {},
   "outputs": [],
   "source": [
    "tk_word = nltk.word_tokenize(text)"
   ]
  },
  {
   "cell_type": "code",
   "execution_count": 7,
   "id": "0ec40f6f-1572-4f1f-9709-d912f3a672f4",
   "metadata": {},
   "outputs": [
    {
     "data": {
      "text/plain": [
       "['All',\n",
       " 'the',\n",
       " 'boys',\n",
       " 'and',\n",
       " 'girls',\n",
       " 'from',\n",
       " 'the',\n",
       " 'classroom',\n",
       " ',',\n",
       " 'are',\n",
       " 'writing',\n",
       " 'paper',\n",
       " '.',\n",
       " 'And',\n",
       " 'the',\n",
       " 'timing',\n",
       " 'is',\n",
       " ',',\n",
       " 'one',\n",
       " 'hour',\n",
       " '.']"
      ]
     },
     "execution_count": 7,
     "metadata": {},
     "output_type": "execute_result"
    }
   ],
   "source": [
    "tk_word"
   ]
  },
  {
   "cell_type": "code",
   "execution_count": 8,
   "id": "4868e680-1478-4058-b4fa-7b83515cebe3",
   "metadata": {},
   "outputs": [],
   "source": [
    "from nltk.stem import PorterStemmer"
   ]
  },
  {
   "cell_type": "code",
   "execution_count": 9,
   "id": "b55bbc11-5c9e-4d70-9921-7e12736cedcb",
   "metadata": {},
   "outputs": [
    {
     "name": "stdout",
     "output_type": "stream",
     "text": [
      "['all', 'the', 'boy', 'and', 'girl', 'from', 'the', 'classroom', ',', 'are', 'write', 'paper', '.', 'and', 'the', 'time', 'is', ',', 'one', 'hour', '.']\n"
     ]
    }
   ],
   "source": [
    "ps = PorterStemmer()\n",
    "stem = []\n",
    "\n",
    "for i in tk_word:\n",
    "    stem_word = ps.stem(i)\n",
    "    stem.append(stem_word)\n",
    "print(stem)"
   ]
  },
  {
   "cell_type": "code",
   "execution_count": 10,
   "id": "4463edec-5d20-469a-bf5d-d67ff7afc2bd",
   "metadata": {},
   "outputs": [],
   "source": [
    "from nltk.stem import WordNetLemmatizer"
   ]
  },
  {
   "cell_type": "code",
   "execution_count": 11,
   "id": "eef0693d-a639-45fa-aa5b-ce77fc45e183",
   "metadata": {},
   "outputs": [],
   "source": [
    "lema = WordNetLemmatizer()"
   ]
  },
  {
   "cell_type": "code",
   "execution_count": 15,
   "id": "6a00fe00-38b5-4c74-9cb0-6c1e7508528a",
   "metadata": {},
   "outputs": [],
   "source": [
    "lema_sent = []\n",
    "\n",
    "for i in stem:\n",
    "    temp = lema.lemmatize(i)\n",
    "    lema_sent.append(temp)\n",
    "    \n",
    "    "
   ]
  },
  {
   "cell_type": "code",
   "execution_count": 16,
   "id": "e60fc8ed-e9b8-47ac-a589-8318be8964f5",
   "metadata": {},
   "outputs": [
    {
     "data": {
      "text/plain": [
       "['all',\n",
       " 'the',\n",
       " 'boy',\n",
       " 'and',\n",
       " 'girl',\n",
       " 'from',\n",
       " 'the',\n",
       " 'classroom',\n",
       " ',',\n",
       " 'are',\n",
       " 'write',\n",
       " 'paper',\n",
       " '.',\n",
       " 'and',\n",
       " 'the',\n",
       " 'time',\n",
       " 'is',\n",
       " ',',\n",
       " 'one',\n",
       " 'hour',\n",
       " '.']"
      ]
     },
     "execution_count": 16,
     "metadata": {},
     "output_type": "execute_result"
    }
   ],
   "source": [
    "lema_sent"
   ]
  },
  {
   "cell_type": "code",
   "execution_count": 17,
   "id": "d2258ebc-7297-4fed-8ef5-f9b7b7df314c",
   "metadata": {},
   "outputs": [
    {
     "name": "stdout",
     "output_type": "stream",
     "text": [
      "Part of speech :  [('all', 'PDT'), ('the', 'DT'), ('boy', 'NN'), ('and', 'CC'), ('girl', 'NN'), ('from', 'IN'), ('the', 'DT'), ('classroom', 'NN'), (',', ','), ('are', 'VBP'), ('write', 'JJ'), ('paper', 'NN'), ('.', '.'), ('and', 'CC'), ('the', 'DT'), ('time', 'NN'), ('is', 'VBZ'), (',', ','), ('one', 'CD'), ('hour', 'NN'), ('.', '.')]\n"
     ]
    }
   ],
   "source": [
    "print('Part of speech : ', nltk.pos_tag(lema_sent))"
   ]
  },
  {
   "cell_type": "code",
   "execution_count": 19,
   "id": "8c92c9e9-095d-4f92-9ff9-2f5ae43ad720",
   "metadata": {},
   "outputs": [],
   "source": [
    "stop_words = stopwords.words('english')"
   ]
  },
  {
   "cell_type": "code",
   "execution_count": 20,
   "id": "5401b9bd-a378-47ce-9e92-1e2349915055",
   "metadata": {},
   "outputs": [
    {
     "name": "stdout",
     "output_type": "stream",
     "text": [
      "['i', 'me', 'my', 'myself', 'we', 'our', 'ours', 'ourselves', 'you', \"you're\", \"you've\", \"you'll\", \"you'd\", 'your', 'yours', 'yourself', 'yourselves', 'he', 'him', 'his', 'himself', 'she', \"she's\", 'her', 'hers', 'herself', 'it', \"it's\", 'its', 'itself', 'they', 'them', 'their', 'theirs', 'themselves', 'what', 'which', 'who', 'whom', 'this', 'that', \"that'll\", 'these', 'those', 'am', 'is', 'are', 'was', 'were', 'be', 'been', 'being', 'have', 'has', 'had', 'having', 'do', 'does', 'did', 'doing', 'a', 'an', 'the', 'and', 'but', 'if', 'or', 'because', 'as', 'until', 'while', 'of', 'at', 'by', 'for', 'with', 'about', 'against', 'between', 'into', 'through', 'during', 'before', 'after', 'above', 'below', 'to', 'from', 'up', 'down', 'in', 'out', 'on', 'off', 'over', 'under', 'again', 'further', 'then', 'once', 'here', 'there', 'when', 'where', 'why', 'how', 'all', 'any', 'both', 'each', 'few', 'more', 'most', 'other', 'some', 'such', 'no', 'nor', 'not', 'only', 'own', 'same', 'so', 'than', 'too', 'very', 's', 't', 'can', 'will', 'just', 'don', \"don't\", 'should', \"should've\", 'now', 'd', 'll', 'm', 'o', 're', 've', 'y', 'ain', 'aren', \"aren't\", 'couldn', \"couldn't\", 'didn', \"didn't\", 'doesn', \"doesn't\", 'hadn', \"hadn't\", 'hasn', \"hasn't\", 'haven', \"haven't\", 'isn', \"isn't\", 'ma', 'mightn', \"mightn't\", 'mustn', \"mustn't\", 'needn', \"needn't\", 'shan', \"shan't\", 'shouldn', \"shouldn't\", 'wasn', \"wasn't\", 'weren', \"weren't\", 'won', \"won't\", 'wouldn', \"wouldn't\"]\n"
     ]
    }
   ],
   "source": [
    "print(stop_words)"
   ]
  },
  {
   "cell_type": "code",
   "execution_count": null,
   "id": "9f71f938-d932-4e3f-a051-12cc8f0a775a",
   "metadata": {},
   "outputs": [],
   "source": []
  },
  {
   "cell_type": "code",
   "execution_count": null,
   "id": "fa333580-9fad-4542-9ea1-73902e5d7a8b",
   "metadata": {},
   "outputs": [],
   "source": []
  },
  {
   "cell_type": "code",
   "execution_count": null,
   "id": "c0615260-6765-4eef-bfd0-92e5b4c48254",
   "metadata": {},
   "outputs": [],
   "source": []
  },
  {
   "cell_type": "code",
   "execution_count": null,
   "id": "545159f7-ed91-43a1-8074-540fb181b79f",
   "metadata": {},
   "outputs": [],
   "source": []
  }
 ],
 "metadata": {
  "kernelspec": {
   "display_name": "Python 3 (ipykernel)",
   "language": "python",
   "name": "python3"
  },
  "language_info": {
   "codemirror_mode": {
    "name": "ipython",
    "version": 3
   },
   "file_extension": ".py",
   "mimetype": "text/x-python",
   "name": "python",
   "nbconvert_exporter": "python",
   "pygments_lexer": "ipython3",
   "version": "3.11.7"
  }
 },
 "nbformat": 4,
 "nbformat_minor": 5
}
